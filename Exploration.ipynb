{
 "cells": [
  {
   "cell_type": "code",
   "execution_count": 7,
   "id": "4bb1c09d-c92f-4e0a-8386-04877f6fd679",
   "metadata": {},
   "outputs": [],
   "source": [
    "import pandas as pd\n",
    "import csv\n",
    "import os\n",
    "import numpy as np  \n",
    "import matplotlib.pyplot as plt\n",
    "import jaydebeapi as jdbc\n",
    "import psycopg2\n",
    "from pathlib import Path  \n"
   ]
  },
  {
   "cell_type": "code",
   "execution_count": 8,
   "id": "74765f81-91d7-48dd-8636-2f053ccaf14c",
   "metadata": {},
   "outputs": [],
   "source": [
    "try:\n",
    "    conn = psycopg2.connect(\n",
    "        host=\"192.168.0.165\",\n",
    "        port=5432,\n",
    "        database=\"IDA\",\n",
    "        user=\"admin\",\n",
    "        password=\"1qaz!QAZ\"\n",
    "    )\n",
    "except Exception as e:\n",
    "    print(f\"Failed to connect: {e}\")\n",
    "    exit()"
   ]
  },
  {
   "cell_type": "code",
   "execution_count": 20,
   "id": "2709bcce-0f91-4afd-b994-e25b2dc10168",
   "metadata": {},
   "outputs": [],
   "source": [
    "os.makedirs('Datasets', exist_ok=True)  # Ensure the directory exists\n",
    "\n",
    "filepath_0_5 = Path('/home/michaelhaedt/AI_Project/Datasets/time_spent_alone_0_5.csv')\n",
    "filepath_6_10 = Path('/home/michaelhaedt/AI_Project/Datasets/time_spent_alone_6_10.csv')  \n",
    "filepath_personality = Path('/home/michaelhaedt/AI_Project/Datasets/personality_datasert.csv')"
   ]
  },
  {
   "cell_type": "code",
   "execution_count": 19,
   "id": "ec837053-a502-40e9-a3b6-9c000b718625",
   "metadata": {},
   "outputs": [],
   "source": [
    "df = pd.read_csv(filepath_personality)"
   ]
  },
  {
   "cell_type": "code",
   "execution_count": 21,
   "id": "35f34d08-7790-4e17-9e9e-df91e6cb475b",
   "metadata": {},
   "outputs": [
    {
     "name": "stdout",
     "output_type": "stream",
     "text": [
      "(2900, 8)\n"
     ]
    }
   ],
   "source": [
    "print(df.shape)\n"
   ]
  },
  {
   "cell_type": "code",
   "execution_count": 22,
   "id": "2a69c92e-05c8-4c52-a60c-115c9b73353b",
   "metadata": {},
   "outputs": [
    {
     "name": "stdout",
     "output_type": "stream",
     "text": [
      "   Time_spent_Alone Stage_fear  Social_event_attendance  Going_outside  \\\n",
      "0               4.0         No                      4.0            6.0   \n",
      "1               9.0        Yes                      0.0            0.0   \n",
      "2               9.0        Yes                      1.0            2.0   \n",
      "3               0.0         No                      6.0            7.0   \n",
      "4               3.0         No                      9.0            4.0   \n",
      "\n",
      "  Drained_after_socializing  Friends_circle_size  Post_frequency Personality  \n",
      "0                        No                 13.0             5.0   Extrovert  \n",
      "1                       Yes                  0.0             3.0   Introvert  \n",
      "2                       Yes                  5.0             2.0   Introvert  \n",
      "3                        No                 14.0             8.0   Extrovert  \n",
      "4                        No                  8.0             5.0   Extrovert  \n"
     ]
    }
   ],
   "source": [
    "print(df.head())"
   ]
  },
  {
   "cell_type": "code",
   "execution_count": 23,
   "id": "b33b18c2-b183-42dd-8a88-5ca0f0e7bf13",
   "metadata": {},
   "outputs": [
    {
     "name": "stdout",
     "output_type": "stream",
     "text": [
      "RangeIndex(start=0, stop=2900, step=1)\n"
     ]
    }
   ],
   "source": [
    "print(df.index)"
   ]
  },
  {
   "cell_type": "code",
   "execution_count": 24,
   "id": "4e284496-3ff8-4734-a0f1-b403ed2b065b",
   "metadata": {},
   "outputs": [
    {
     "name": "stdout",
     "output_type": "stream",
     "text": [
      "Index(['Time_spent_Alone', 'Stage_fear', 'Social_event_attendance',\n",
      "       'Going_outside', 'Drained_after_socializing', 'Friends_circle_size',\n",
      "       'Post_frequency', 'Personality'],\n",
      "      dtype='object')\n"
     ]
    }
   ],
   "source": [
    "print(df.columns)"
   ]
  },
  {
   "cell_type": "code",
   "execution_count": 25,
   "id": "8676fe87-a8f2-4fb7-8fd0-a606727107e6",
   "metadata": {},
   "outputs": [
    {
     "name": "stdout",
     "output_type": "stream",
     "text": [
      "<class 'pandas.core.frame.DataFrame'>\n",
      "RangeIndex: 2900 entries, 0 to 2899\n",
      "Data columns (total 8 columns):\n",
      " #   Column                     Non-Null Count  Dtype  \n",
      "---  ------                     --------------  -----  \n",
      " 0   Time_spent_Alone           2900 non-null   float64\n",
      " 1   Stage_fear                 2900 non-null   object \n",
      " 2   Social_event_attendance    2900 non-null   float64\n",
      " 3   Going_outside              2900 non-null   float64\n",
      " 4   Drained_after_socializing  2900 non-null   object \n",
      " 5   Friends_circle_size        2900 non-null   float64\n",
      " 6   Post_frequency             2900 non-null   float64\n",
      " 7   Personality                2900 non-null   object \n",
      "dtypes: float64(5), object(3)\n",
      "memory usage: 181.4+ KB\n",
      "None\n"
     ]
    }
   ],
   "source": [
    "print(df.info())"
   ]
  },
  {
   "cell_type": "code",
   "execution_count": 26,
   "id": "f1b03020-a750-406a-80e4-485930dd1aef",
   "metadata": {},
   "outputs": [
    {
     "name": "stdout",
     "output_type": "stream",
     "text": [
      "Time_spent_Alone             2900\n",
      "Stage_fear                   2900\n",
      "Social_event_attendance      2900\n",
      "Going_outside                2900\n",
      "Drained_after_socializing    2900\n",
      "Friends_circle_size          2900\n",
      "Post_frequency               2900\n",
      "Personality                  2900\n",
      "dtype: int64\n"
     ]
    }
   ],
   "source": [
    "print(df.count())\n"
   ]
  },
  {
   "cell_type": "code",
   "execution_count": 27,
   "id": "fd818921-f79e-4bc0-9b6f-158f49122980",
   "metadata": {},
   "outputs": [
    {
     "name": "stdout",
     "output_type": "stream",
     "text": [
      "       Time_spent_Alone  Social_event_attendance  Going_outside  \\\n",
      "count       2900.000000              2900.000000    2900.000000   \n",
      "mean           4.505816                 3.963354       3.000000   \n",
      "std            3.441180                 2.872608       2.221597   \n",
      "min            0.000000                 0.000000       0.000000   \n",
      "25%            2.000000                 2.000000       1.000000   \n",
      "50%            4.000000                 3.963354       3.000000   \n",
      "75%            7.000000                 6.000000       5.000000   \n",
      "max           11.000000                10.000000       7.000000   \n",
      "\n",
      "       Friends_circle_size  Post_frequency  \n",
      "count          2900.000000     2900.000000  \n",
      "mean              6.268863        3.564727  \n",
      "std               4.232340        2.893587  \n",
      "min               0.000000        0.000000  \n",
      "25%               3.000000        1.000000  \n",
      "50%               5.000000        3.000000  \n",
      "75%              10.000000        6.000000  \n",
      "max              15.000000       10.000000  \n"
     ]
    }
   ],
   "source": [
    "print(df.describe())"
   ]
  },
  {
   "cell_type": "code",
   "execution_count": null,
   "id": "5f054733-6e5c-4a27-b714-53bdad3bcbff",
   "metadata": {},
   "outputs": [],
   "source": []
  }
 ],
 "metadata": {
  "kernelspec": {
   "display_name": "Python 3 (ipykernel)",
   "language": "python",
   "name": "python3"
  },
  "language_info": {
   "codemirror_mode": {
    "name": "ipython",
    "version": 3
   },
   "file_extension": ".py",
   "mimetype": "text/x-python",
   "name": "python",
   "nbconvert_exporter": "python",
   "pygments_lexer": "ipython3",
   "version": "3.10.12"
  }
 },
 "nbformat": 4,
 "nbformat_minor": 5
}
